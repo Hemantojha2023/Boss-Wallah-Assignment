{
 "cells": [
  {
   "cell_type": "code",
   "execution_count": 1,
   "id": "fa16e8b1",
   "metadata": {},
   "outputs": [],
   "source": [
    "from langchain.schema import Document\n",
    "import pandas as pd"
   ]
  },
  {
   "cell_type": "code",
   "execution_count": 2,
   "id": "f04455c9",
   "metadata": {},
   "outputs": [],
   "source": [
    "lang_map = {\n",
    "    6: \"Hindi\",\n",
    "    7: \"Kannada\",\n",
    "    11: \"Malayalam\",\n",
    "    20: \"Tamil\",\n",
    "    21: \"Telugu\",\n",
    "    24: \"English\"\n",
    "}"
   ]
  },
  {
   "cell_type": "code",
   "execution_count": 3,
   "id": "acddc1f6",
   "metadata": {},
   "outputs": [],
   "source": [
    "df = pd.read_csv(\"bw_courses - Sheet1.csv\")"
   ]
  },
  {
   "cell_type": "code",
   "execution_count": 4,
   "id": "d64548c4",
   "metadata": {},
   "outputs": [],
   "source": [
    "def map_languages(value):\n",
    "    if pd.isna(value):\n",
    "        return \"\"\n",
    "    codes = str(value).split(\",\")\n",
    "    langs = [lang_map.get(int(c.strip()), f\"Unknown({c})\") for c in codes if c.strip().isdigit()]\n",
    "    return \", \".join(langs)"
   ]
  },
  {
   "cell_type": "code",
   "execution_count": 5,
   "id": "38fb5e05",
   "metadata": {},
   "outputs": [],
   "source": [
    "docs = []\n",
    "for idx, row in df.iterrows():\n",
    "    content_lines = []\n",
    "    for col, val in row.items():\n",
    "        if col == \"Released Languages\":\n",
    "            mapped_val = map_languages(val)\n",
    "            content_lines.append(f\"{col}: {mapped_val}\")\n",
    "        else:\n",
    "            content_lines.append(f\"{col}: {val}\")\n",
    "    page_content = \"\\n\".join(content_lines)\n",
    "    metadata = {\"source\": \"bw_courses - Sheet1.csv\", \"row\": idx}\n",
    "    docs.append(Document(page_content=page_content, metadata=metadata))"
   ]
  },
  {
   "cell_type": "code",
   "execution_count": 6,
   "id": "b4caf058",
   "metadata": {},
   "outputs": [
    {
     "data": {
      "text/html": [
       "<div>\n",
       "<style scoped>\n",
       "    .dataframe tbody tr th:only-of-type {\n",
       "        vertical-align: middle;\n",
       "    }\n",
       "\n",
       "    .dataframe tbody tr th {\n",
       "        vertical-align: top;\n",
       "    }\n",
       "\n",
       "    .dataframe thead th {\n",
       "        text-align: right;\n",
       "    }\n",
       "</style>\n",
       "<table border=\"1\" class=\"dataframe\">\n",
       "  <thead>\n",
       "    <tr style=\"text-align: right;\">\n",
       "      <th></th>\n",
       "      <th>Course No</th>\n",
       "      <th>Course Title</th>\n",
       "      <th>Course Description</th>\n",
       "      <th>Released Languages</th>\n",
       "      <th>Who This Course is For</th>\n",
       "    </tr>\n",
       "  </thead>\n",
       "  <tbody>\n",
       "    <tr>\n",
       "      <th>0</th>\n",
       "      <td>1</td>\n",
       "      <td>Course on Financial Freedom</td>\n",
       "      <td>Achieve financial freedom by creating a budget...</td>\n",
       "      <td>6,7,11,20,21,24</td>\n",
       "      <td>Individuals of all ages, from young adults jus...</td>\n",
       "    </tr>\n",
       "    <tr>\n",
       "      <th>1</th>\n",
       "      <td>2</td>\n",
       "      <td>Mutual Funds Course</td>\n",
       "      <td>Invest in mutual funds easily and reap the ben...</td>\n",
       "      <td>6,7,11,20,21,24</td>\n",
       "      <td>Beginner investors looking to learn about mutu...</td>\n",
       "    </tr>\n",
       "    <tr>\n",
       "      <th>2</th>\n",
       "      <td>3</td>\n",
       "      <td>Course on Credit Cards</td>\n",
       "      <td>Utilize the benefits of credit cards by obtain...</td>\n",
       "      <td>6,7,11,20,21,24</td>\n",
       "      <td>Adults who are new to credit cards and want to...</td>\n",
       "    </tr>\n",
       "    <tr>\n",
       "      <th>3</th>\n",
       "      <td>4</td>\n",
       "      <td>Course on Credit Score</td>\n",
       "      <td>Elevate your credit score, elevate your life w...</td>\n",
       "      <td>6,7,11,20,21,24</td>\n",
       "      <td>Individuals seeking to understand their credit...</td>\n",
       "    </tr>\n",
       "    <tr>\n",
       "      <th>4</th>\n",
       "      <td>5</td>\n",
       "      <td>Course on Stock Market</td>\n",
       "      <td>Transform yourself into a Savvy Stock Market I...</td>\n",
       "      <td>6,7,11,20,21,24</td>\n",
       "      <td>A beginner's guide to the stock market, this c...</td>\n",
       "    </tr>\n",
       "    <tr>\n",
       "      <th>...</th>\n",
       "      <td>...</td>\n",
       "      <td>...</td>\n",
       "      <td>...</td>\n",
       "      <td>...</td>\n",
       "      <td>...</td>\n",
       "    </tr>\n",
       "    <tr>\n",
       "      <th>95</th>\n",
       "      <td>96</td>\n",
       "      <td>Sericulture Course</td>\n",
       "      <td>Unleash your potential with the Sericulture Co...</td>\n",
       "      <td>7</td>\n",
       "      <td>Entrepreneurs looking to start a new business ...</td>\n",
       "    </tr>\n",
       "    <tr>\n",
       "      <th>96</th>\n",
       "      <td>97</td>\n",
       "      <td>Osmanabadi Goat Farming Course</td>\n",
       "      <td>Join the Osmanabadi Goat Farming Course and tu...</td>\n",
       "      <td>7</td>\n",
       "      <td>Anyone interested in starting a goat farm, reg...</td>\n",
       "    </tr>\n",
       "    <tr>\n",
       "      <th>97</th>\n",
       "      <td>98</td>\n",
       "      <td>Giriraja Nati Koli Business Course</td>\n",
       "      <td>Discover the secrets to a successful Giriraja ...</td>\n",
       "      <td>7</td>\n",
       "      <td>Aspiring entrepreneurs who want to start their...</td>\n",
       "    </tr>\n",
       "    <tr>\n",
       "      <th>98</th>\n",
       "      <td>99</td>\n",
       "      <td>Course on Best Health Insurance Policies</td>\n",
       "      <td>Secure your health and wealth by choosing the ...</td>\n",
       "      <td>11</td>\n",
       "      <td>Anyone interested in learning about health ins...</td>\n",
       "    </tr>\n",
       "    <tr>\n",
       "      <th>99</th>\n",
       "      <td>100</td>\n",
       "      <td>Papaya Farming Course</td>\n",
       "      <td>Discover the secrets of profitable papaya farm...</td>\n",
       "      <td>20</td>\n",
       "      <td>Anyone interested in papaya farming ||| Agricu...</td>\n",
       "    </tr>\n",
       "  </tbody>\n",
       "</table>\n",
       "<p>100 rows × 5 columns</p>\n",
       "</div>"
      ],
      "text/plain": [
       "    Course No                              Course Title  \\\n",
       "0           1               Course on Financial Freedom   \n",
       "1           2                       Mutual Funds Course   \n",
       "2           3                    Course on Credit Cards   \n",
       "3           4                    Course on Credit Score   \n",
       "4           5                    Course on Stock Market   \n",
       "..        ...                                       ...   \n",
       "95         96                        Sericulture Course   \n",
       "96         97            Osmanabadi Goat Farming Course   \n",
       "97         98        Giriraja Nati Koli Business Course   \n",
       "98         99  Course on Best Health Insurance Policies   \n",
       "99        100                     Papaya Farming Course   \n",
       "\n",
       "                                   Course Description Released Languages  \\\n",
       "0   Achieve financial freedom by creating a budget...    6,7,11,20,21,24   \n",
       "1   Invest in mutual funds easily and reap the ben...    6,7,11,20,21,24   \n",
       "2   Utilize the benefits of credit cards by obtain...    6,7,11,20,21,24   \n",
       "3   Elevate your credit score, elevate your life w...    6,7,11,20,21,24   \n",
       "4   Transform yourself into a Savvy Stock Market I...    6,7,11,20,21,24   \n",
       "..                                                ...                ...   \n",
       "95  Unleash your potential with the Sericulture Co...                  7   \n",
       "96  Join the Osmanabadi Goat Farming Course and tu...                  7   \n",
       "97  Discover the secrets to a successful Giriraja ...                  7   \n",
       "98  Secure your health and wealth by choosing the ...                 11   \n",
       "99  Discover the secrets of profitable papaya farm...                 20   \n",
       "\n",
       "                               Who This Course is For  \n",
       "0   Individuals of all ages, from young adults jus...  \n",
       "1   Beginner investors looking to learn about mutu...  \n",
       "2   Adults who are new to credit cards and want to...  \n",
       "3   Individuals seeking to understand their credit...  \n",
       "4   A beginner's guide to the stock market, this c...  \n",
       "..                                                ...  \n",
       "95  Entrepreneurs looking to start a new business ...  \n",
       "96  Anyone interested in starting a goat farm, reg...  \n",
       "97  Aspiring entrepreneurs who want to start their...  \n",
       "98  Anyone interested in learning about health ins...  \n",
       "99  Anyone interested in papaya farming ||| Agricu...  \n",
       "\n",
       "[100 rows x 5 columns]"
      ]
     },
     "execution_count": 6,
     "metadata": {},
     "output_type": "execute_result"
    }
   ],
   "source": [
    "df"
   ]
  },
  {
   "cell_type": "markdown",
   "id": "7baba3b7",
   "metadata": {},
   "source": [
    "6, 7, 11, 20, 21, 24 successfully converted into Hindi, Kannada, Malayalam, Tamil, Telugu, English\n",
    "\n",
    "and docs output is row wise same like CSVLoader"
   ]
  },
  {
   "cell_type": "code",
   "execution_count": 7,
   "id": "d72976ad",
   "metadata": {},
   "outputs": [
    {
     "name": "stdout",
     "output_type": "stream",
     "text": [
      "page_content='Course No: 1\n",
      "Course Title: Course on Financial Freedom\n",
      "Course Description: Achieve financial freedom by creating a budget, and investing wisely taking control of your finances\n",
      "Released Languages: Hindi, Kannada, Malayalam, Tamil, Telugu, English\n",
      "Who This Course is For: Individuals of all ages, from young adults just starting their careers to retirees looking to manage their finances  ||| Those who feel overwhelmed by their financial situation or lack the knowledge or resources to manage their money  ||| Individuals from all income levels and backgrounds, as the principles of personal finance, apply to everyone ||| Those who want to get rid of debt and create a strong financial foundation ||| Those who want to learn how to invest their money wisely and build wealth over the long term' metadata={'source': 'bw_courses - Sheet1.csv', 'row': 0}\n"
     ]
    }
   ],
   "source": [
    "print(docs[0])"
   ]
  },
  {
   "cell_type": "code",
   "execution_count": 8,
   "id": "43cc9483",
   "metadata": {},
   "outputs": [
    {
     "name": "stdout",
     "output_type": "stream",
     "text": [
      "page_content='Course No: 2\n",
      "Course Title: Mutual Funds Course\n",
      "Course Description: Invest in mutual funds easily and reap the benefits of securing your finances.\n",
      "Released Languages: Hindi, Kannada, Malayalam, Tamil, Telugu, English\n",
      "Who This Course is For: Beginner investors looking to learn about mutual funds ||| Individuals seeking to diversify their investment portfolio ||| Financial planners and advisors seeking to expand their knowledge ||| Working professionals looking to build their wealth over time ||| Anyone seeking to understand how to invest in mutual funds and grow their wealth' metadata={'source': 'bw_courses - Sheet1.csv', 'row': 1}\n"
     ]
    }
   ],
   "source": [
    "print(docs[1])"
   ]
  },
  {
   "cell_type": "code",
   "execution_count": 9,
   "id": "9efac55a",
   "metadata": {},
   "outputs": [
    {
     "name": "stdout",
     "output_type": "stream",
     "text": [
      "100\n"
     ]
    }
   ],
   "source": [
    "print(len(docs))"
   ]
  },
  {
   "cell_type": "code",
   "execution_count": null,
   "id": "b5186a50",
   "metadata": {},
   "outputs": [],
   "source": []
  }
 ],
 "metadata": {
  "kernelspec": {
   "display_name": "venv (3.12.7)",
   "language": "python",
   "name": "python3"
  },
  "language_info": {
   "codemirror_mode": {
    "name": "ipython",
    "version": 3
   },
   "file_extension": ".py",
   "mimetype": "text/x-python",
   "name": "python",
   "nbconvert_exporter": "python",
   "pygments_lexer": "ipython3",
   "version": "3.12.7"
  }
 },
 "nbformat": 4,
 "nbformat_minor": 5
}
